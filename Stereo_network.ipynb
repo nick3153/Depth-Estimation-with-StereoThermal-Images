{
 "cells": [
  {
   "cell_type": "code",
   "execution_count": null,
   "metadata": {
    "id": "BIOO0bDGt--x"
   },
   "outputs": [],
   "source": [
    "# Estimacion de la profundidad con redes neuronales"
   ]
  }
 ],
 "metadata": {
  "colab": {
   "authorship_tag": "ABX9TyOpV1rmF4s1DrqkpcRPMSIo",
   "provenance": []
  },
  "kernelspec": {
   "display_name": "Python 3",
   "name": "python3"
  },
  "language_info": {
   "name": "python"
  }
 },
 "nbformat": 4,
 "nbformat_minor": 0
}
